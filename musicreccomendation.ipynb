{
 "cells": [
  {
   "cell_type": "code",
   "execution_count": 93,
   "id": "d6e85454",
   "metadata": {},
   "outputs": [],
   "source": [
    "import pandas as pd \n",
    "import numpy as np\n"
   ]
  },
  {
   "cell_type": "code",
   "execution_count": 94,
   "id": "aa130314",
   "metadata": {},
   "outputs": [
    {
     "data": {
      "text/html": [
       "<div>\n",
       "<style scoped>\n",
       "    .dataframe tbody tr th:only-of-type {\n",
       "        vertical-align: middle;\n",
       "    }\n",
       "\n",
       "    .dataframe tbody tr th {\n",
       "        vertical-align: top;\n",
       "    }\n",
       "\n",
       "    .dataframe thead th {\n",
       "        text-align: right;\n",
       "    }\n",
       "</style>\n",
       "<table border=\"1\" class=\"dataframe\">\n",
       "  <thead>\n",
       "    <tr style=\"text-align: right;\">\n",
       "      <th></th>\n",
       "      <th>artist</th>\n",
       "      <th>song</th>\n",
       "      <th>link</th>\n",
       "      <th>text</th>\n",
       "    </tr>\n",
       "  </thead>\n",
       "  <tbody>\n",
       "    <tr>\n",
       "      <th>0</th>\n",
       "      <td>ABBA</td>\n",
       "      <td>Ahe's My Kind Of Girl</td>\n",
       "      <td>/a/abba/ahes+my+kind+of+girl_20598417.html</td>\n",
       "      <td>Look at her face, it's a wonderful face  \\r\\nA...</td>\n",
       "    </tr>\n",
       "    <tr>\n",
       "      <th>1</th>\n",
       "      <td>ABBA</td>\n",
       "      <td>Andante, Andante</td>\n",
       "      <td>/a/abba/andante+andante_20002708.html</td>\n",
       "      <td>Take it easy with me, please  \\r\\nTouch me gen...</td>\n",
       "    </tr>\n",
       "    <tr>\n",
       "      <th>2</th>\n",
       "      <td>ABBA</td>\n",
       "      <td>As Good As New</td>\n",
       "      <td>/a/abba/as+good+as+new_20003033.html</td>\n",
       "      <td>I'll never know why I had to go  \\r\\nWhy I had...</td>\n",
       "    </tr>\n",
       "    <tr>\n",
       "      <th>3</th>\n",
       "      <td>ABBA</td>\n",
       "      <td>Bang</td>\n",
       "      <td>/a/abba/bang_20598415.html</td>\n",
       "      <td>Making somebody happy is a question of give an...</td>\n",
       "    </tr>\n",
       "    <tr>\n",
       "      <th>4</th>\n",
       "      <td>ABBA</td>\n",
       "      <td>Bang-A-Boomerang</td>\n",
       "      <td>/a/abba/bang+a+boomerang_20002668.html</td>\n",
       "      <td>Making somebody happy is a question of give an...</td>\n",
       "    </tr>\n",
       "    <tr>\n",
       "      <th>...</th>\n",
       "      <td>...</td>\n",
       "      <td>...</td>\n",
       "      <td>...</td>\n",
       "      <td>...</td>\n",
       "    </tr>\n",
       "    <tr>\n",
       "      <th>57645</th>\n",
       "      <td>Ziggy Marley</td>\n",
       "      <td>Good Old Days</td>\n",
       "      <td>/z/ziggy+marley/good+old+days_10198588.html</td>\n",
       "      <td>Irie days come on play  \\r\\nLet the angels fly...</td>\n",
       "    </tr>\n",
       "    <tr>\n",
       "      <th>57646</th>\n",
       "      <td>Ziggy Marley</td>\n",
       "      <td>Hand To Mouth</td>\n",
       "      <td>/z/ziggy+marley/hand+to+mouth_20531167.html</td>\n",
       "      <td>Power to the workers  \\r\\nMore power  \\r\\nPowe...</td>\n",
       "    </tr>\n",
       "    <tr>\n",
       "      <th>57647</th>\n",
       "      <td>Zwan</td>\n",
       "      <td>Come With Me</td>\n",
       "      <td>/z/zwan/come+with+me_20148981.html</td>\n",
       "      <td>all you need  \\r\\nis something i'll believe  \\...</td>\n",
       "    </tr>\n",
       "    <tr>\n",
       "      <th>57648</th>\n",
       "      <td>Zwan</td>\n",
       "      <td>Desire</td>\n",
       "      <td>/z/zwan/desire_20148986.html</td>\n",
       "      <td>northern star  \\r\\nam i frightened  \\r\\nwhere ...</td>\n",
       "    </tr>\n",
       "    <tr>\n",
       "      <th>57649</th>\n",
       "      <td>Zwan</td>\n",
       "      <td>Heartsong</td>\n",
       "      <td>/z/zwan/heartsong_20148991.html</td>\n",
       "      <td>come in  \\r\\nmake yourself at home  \\r\\ni'm a ...</td>\n",
       "    </tr>\n",
       "  </tbody>\n",
       "</table>\n",
       "<p>57650 rows × 4 columns</p>\n",
       "</div>"
      ],
      "text/plain": [
       "             artist                   song  \\\n",
       "0              ABBA  Ahe's My Kind Of Girl   \n",
       "1              ABBA       Andante, Andante   \n",
       "2              ABBA         As Good As New   \n",
       "3              ABBA                   Bang   \n",
       "4              ABBA       Bang-A-Boomerang   \n",
       "...             ...                    ...   \n",
       "57645  Ziggy Marley          Good Old Days   \n",
       "57646  Ziggy Marley          Hand To Mouth   \n",
       "57647          Zwan           Come With Me   \n",
       "57648          Zwan                 Desire   \n",
       "57649          Zwan              Heartsong   \n",
       "\n",
       "                                              link  \\\n",
       "0       /a/abba/ahes+my+kind+of+girl_20598417.html   \n",
       "1            /a/abba/andante+andante_20002708.html   \n",
       "2             /a/abba/as+good+as+new_20003033.html   \n",
       "3                       /a/abba/bang_20598415.html   \n",
       "4           /a/abba/bang+a+boomerang_20002668.html   \n",
       "...                                            ...   \n",
       "57645  /z/ziggy+marley/good+old+days_10198588.html   \n",
       "57646  /z/ziggy+marley/hand+to+mouth_20531167.html   \n",
       "57647           /z/zwan/come+with+me_20148981.html   \n",
       "57648                 /z/zwan/desire_20148986.html   \n",
       "57649              /z/zwan/heartsong_20148991.html   \n",
       "\n",
       "                                                    text  \n",
       "0      Look at her face, it's a wonderful face  \\r\\nA...  \n",
       "1      Take it easy with me, please  \\r\\nTouch me gen...  \n",
       "2      I'll never know why I had to go  \\r\\nWhy I had...  \n",
       "3      Making somebody happy is a question of give an...  \n",
       "4      Making somebody happy is a question of give an...  \n",
       "...                                                  ...  \n",
       "57645  Irie days come on play  \\r\\nLet the angels fly...  \n",
       "57646  Power to the workers  \\r\\nMore power  \\r\\nPowe...  \n",
       "57647  all you need  \\r\\nis something i'll believe  \\...  \n",
       "57648  northern star  \\r\\nam i frightened  \\r\\nwhere ...  \n",
       "57649  come in  \\r\\nmake yourself at home  \\r\\ni'm a ...  \n",
       "\n",
       "[57650 rows x 4 columns]"
      ]
     },
     "execution_count": 94,
     "metadata": {},
     "output_type": "execute_result"
    }
   ],
   "source": [
    "df=pd.read_csv(\"spotify_millsongdata.csv\")\n",
    "df"
   ]
  },
  {
   "cell_type": "code",
   "execution_count": 95,
   "id": "773e59db",
   "metadata": {},
   "outputs": [
    {
     "data": {
      "text/plain": [
       "artist    0\n",
       "song      0\n",
       "link      0\n",
       "text      0\n",
       "dtype: int64"
      ]
     },
     "execution_count": 95,
     "metadata": {},
     "output_type": "execute_result"
    }
   ],
   "source": [
    "df.isnull().sum()"
   ]
  },
  {
   "cell_type": "code",
   "execution_count": 96,
   "id": "a2575c7a",
   "metadata": {},
   "outputs": [],
   "source": [
    "df=df.sample(5000).drop('link',axis=1).reset_index(drop=True)"
   ]
  },
  {
   "cell_type": "code",
   "execution_count": 97,
   "id": "c29d70c1",
   "metadata": {},
   "outputs": [
    {
     "data": {
      "text/plain": [
       "\"Death is the best  \\r\\nBetter than all the rest  \\r\\nOn the dutiful lies in the rock paradise  \\r\\nLosses and wear and the texture of age  \\r\\nAdds a truth to the heart  \\r\\nAnd a light to the face  \\r\\n  \\r\\nIt's good when you don't give as  \\r\\nMuch of a fuck  \\r\\nAs you did when the threats mount  \\r\\nTo make you suck  \\r\\nA burst of rage  \\r\\nA lively cry  \\r\\nEmotions wide  \\r\\n  \\r\\nYour death is certain for sure  \\r\\nMy death is certain alright  \\r\\nBut death is certain no cure  \\r\\n'Cause death is certain  \\r\\n'Cause death is certain so why?  \\r\\n  \\r\\nGotta die  \\r\\nA bone and a skull  \\r\\nIn a conjugal hell  \\r\\nA mall full of gall  \\r\\nAnd the music jerks off  \\r\\nPale and fate  \\r\\n  \\r\\nAt the table they sat  \\r\\nWith their necks choking tight  \\r\\nIn their collars dead white  \\r\\nLiquor and food 'till  \\r\\nThey spin and explode  \\r\\nIn a shower of crap  \\r\\nIn America's lap  \\r\\nA pliceman's numb  \\r\\nA lazy bum  \\r\\nEmotions come  \\r\\n  \\r\\n'Cause death is certain it's sure  \\r\\n'Cause death is certain it's pure  \\r\\n'Cause death is certain no cure  \\r\\n'Cause death is certain  \\r\\n'Cause death is certain that's why  \\r\\n  \\r\\nGotta die  \\r\\nAlright  \\r\\nAlright  \\r\\nWell, alright  \\r\\nAlright [Repeat: x6]  \\r\\n  \\r\\nA beast with legs  \\r\\nA kid who's numb  \\r\\nA lazy bum  \\r\\nYour death is certain it's sure  \\r\\n'Cause death is certain it's pure  \\r\\n'Cause death is certain no cure  \\r\\n'Cause death is certain\\r\\n\\r\\n\""
      ]
     },
     "execution_count": 97,
     "metadata": {},
     "output_type": "execute_result"
    }
   ],
   "source": [
    "df['text'][0]"
   ]
  },
  {
   "cell_type": "code",
   "execution_count": 98,
   "id": "f02ed893",
   "metadata": {},
   "outputs": [],
   "source": [
    "df['text']=df['text'].str.lower().replace(r'^\\w\\s', ' ').replace(r'\\n', ' ',regex =True)"
   ]
  },
  {
   "cell_type": "code",
   "execution_count": 99,
   "id": "6a5047a9",
   "metadata": {},
   "outputs": [
    {
     "data": {
      "text/html": [
       "<div>\n",
       "<style scoped>\n",
       "    .dataframe tbody tr th:only-of-type {\n",
       "        vertical-align: middle;\n",
       "    }\n",
       "\n",
       "    .dataframe tbody tr th {\n",
       "        vertical-align: top;\n",
       "    }\n",
       "\n",
       "    .dataframe thead th {\n",
       "        text-align: right;\n",
       "    }\n",
       "</style>\n",
       "<table border=\"1\" class=\"dataframe\">\n",
       "  <thead>\n",
       "    <tr style=\"text-align: right;\">\n",
       "      <th></th>\n",
       "      <th>artist</th>\n",
       "      <th>song</th>\n",
       "      <th>text</th>\n",
       "    </tr>\n",
       "  </thead>\n",
       "  <tbody>\n",
       "    <tr>\n",
       "      <th>4995</th>\n",
       "      <td>Pharrell Williams</td>\n",
       "      <td>Mamacita</td>\n",
       "      <td>mamacita, oh my god i think you're on fire  \\r...</td>\n",
       "    </tr>\n",
       "    <tr>\n",
       "      <th>4996</th>\n",
       "      <td>Britney Spears</td>\n",
       "      <td>Don't Let Me Be The Last To Know</td>\n",
       "      <td>my friends say you're so into me  \\r and that ...</td>\n",
       "    </tr>\n",
       "    <tr>\n",
       "      <th>4997</th>\n",
       "      <td>Bob Marley</td>\n",
       "      <td>Is This Love</td>\n",
       "      <td>i want to love you, and treat you right,  \\r i...</td>\n",
       "    </tr>\n",
       "    <tr>\n",
       "      <th>4998</th>\n",
       "      <td>Selena Gomez</td>\n",
       "      <td>I Promise You</td>\n",
       "      <td>i know  \\r that my love for  \\r you is real  \\...</td>\n",
       "    </tr>\n",
       "    <tr>\n",
       "      <th>4999</th>\n",
       "      <td>James Taylor</td>\n",
       "      <td>Angry Blues</td>\n",
       "      <td>i can't help it if i don't feel so good.  \\r i...</td>\n",
       "    </tr>\n",
       "  </tbody>\n",
       "</table>\n",
       "</div>"
      ],
      "text/plain": [
       "                 artist                              song  \\\n",
       "4995  Pharrell Williams                          Mamacita   \n",
       "4996     Britney Spears  Don't Let Me Be The Last To Know   \n",
       "4997         Bob Marley                      Is This Love   \n",
       "4998       Selena Gomez                     I Promise You   \n",
       "4999       James Taylor                       Angry Blues   \n",
       "\n",
       "                                                   text  \n",
       "4995  mamacita, oh my god i think you're on fire  \\r...  \n",
       "4996  my friends say you're so into me  \\r and that ...  \n",
       "4997  i want to love you, and treat you right,  \\r i...  \n",
       "4998  i know  \\r that my love for  \\r you is real  \\...  \n",
       "4999  i can't help it if i don't feel so good.  \\r i...  "
      ]
     },
     "execution_count": 99,
     "metadata": {},
     "output_type": "execute_result"
    }
   ],
   "source": [
    "df.tail(5)"
   ]
  },
  {
   "cell_type": "code",
   "execution_count": 76,
   "id": "227ba38a",
   "metadata": {},
   "outputs": [
    {
     "name": "stdout",
     "output_type": "stream",
     "text": [
      "showing info https://raw.githubusercontent.com/nltk/nltk_data/gh-pages/index.xml\n"
     ]
    },
    {
     "data": {
      "text/plain": [
       "True"
      ]
     },
     "execution_count": 76,
     "metadata": {},
     "output_type": "execute_result"
    }
   ],
   "source": [
    "import nltk\n",
    "nltk.download()"
   ]
  },
  {
   "cell_type": "code",
   "execution_count": 100,
   "id": "084463aa",
   "metadata": {},
   "outputs": [],
   "source": [
    "import nltk\n",
    "from nltk.stem.porter import PorterStemmer"
   ]
  },
  {
   "cell_type": "code",
   "execution_count": 101,
   "id": "44d34369",
   "metadata": {},
   "outputs": [],
   "source": [
    "stemmer=PorterStemmer()"
   ]
  },
  {
   "cell_type": "code",
   "execution_count": 102,
   "id": "a0dcf2b6",
   "metadata": {},
   "outputs": [],
   "source": [
    "def token(txt):\n",
    "    token = nltk.word_tokenize(txt)\n",
    "    a=[stemmer.stem(w) for w in token]\n",
    "    return \" \".join(a)"
   ]
  },
  {
   "cell_type": "code",
   "execution_count": 103,
   "id": "6295eeb2",
   "metadata": {},
   "outputs": [
    {
     "data": {
      "text/plain": [
       "'you are beuti'"
      ]
     },
     "execution_count": 103,
     "metadata": {},
     "output_type": "execute_result"
    }
   ],
   "source": [
    "token(\"you are beutiful\")"
   ]
  },
  {
   "cell_type": "code",
   "execution_count": 104,
   "id": "36418d09",
   "metadata": {},
   "outputs": [
    {
     "data": {
      "text/plain": [
       "0       death is the best better than all the rest on ...\n",
       "1       i 've alway been crazi and the troubl that it ...\n",
       "2       i saw two lover walk along the sandi shore her...\n",
       "3       oh , brother , man where are you ? i am buckli...\n",
       "4       out of my sight but the vision is still the sa...\n",
       "                              ...                        \n",
       "4995    mamacita , oh my god i think you 're on fire d...\n",
       "4996    my friend say you 're so into me and that you ...\n",
       "4997    i want to love you , and treat you right , i w...\n",
       "4998    i know that my love for you is real it 's some...\n",
       "4999    i ca n't help it if i do n't feel so good . i ...\n",
       "Name: text, Length: 5000, dtype: object"
      ]
     },
     "execution_count": 104,
     "metadata": {},
     "output_type": "execute_result"
    }
   ],
   "source": [
    "df['text'].apply(lambda x :token(x))"
   ]
  },
  {
   "cell_type": "code",
   "execution_count": 105,
   "id": "38ee428e",
   "metadata": {},
   "outputs": [],
   "source": [
    "from sklearn.feature_extraction.text import TfidfVectorizer\n",
    "from sklearn.metrics.pairwise import cosine_similarity"
   ]
  },
  {
   "cell_type": "code",
   "execution_count": 106,
   "id": "4da993f3",
   "metadata": {},
   "outputs": [],
   "source": [
    "tfid=TfidfVectorizer(analyzer='word', stop_words='english')"
   ]
  },
  {
   "cell_type": "code",
   "execution_count": 107,
   "id": "511540c8",
   "metadata": {},
   "outputs": [],
   "source": [
    "matrix=tfid.fit_transform(df['text'])"
   ]
  },
  {
   "cell_type": "code",
   "execution_count": 108,
   "id": "69951a7e",
   "metadata": {},
   "outputs": [],
   "source": [
    "similer=cosine_similarity(matrix)"
   ]
  },
  {
   "cell_type": "code",
   "execution_count": 109,
   "id": "1c987681",
   "metadata": {},
   "outputs": [
    {
     "data": {
      "text/plain": [
       "array([1.        , 0.01590085, 0.08116188, ..., 0.00462747, 0.0421706 ,\n",
       "       0.01332226])"
      ]
     },
     "execution_count": 109,
     "metadata": {},
     "output_type": "execute_result"
    }
   ],
   "source": [
    "similer[0]"
   ]
  },
  {
   "cell_type": "code",
   "execution_count": 111,
   "id": "5277c551",
   "metadata": {},
   "outputs": [
    {
     "data": {
      "text/plain": [
       "4995"
      ]
     },
     "execution_count": 111,
     "metadata": {},
     "output_type": "execute_result"
    }
   ],
   "source": [
    "df[df['song']=='Mamacita'].index[0]"
   ]
  },
  {
   "cell_type": "code",
   "execution_count": 115,
   "id": "bf05281e",
   "metadata": {},
   "outputs": [],
   "source": [
    "def recommender(song_name):\n",
    "    idx= df[df['song']==song_name].index[0]\n",
    "    distance=sorted(list(enumerate(similer[idx])), reverse=True,key=lambda x:x[1])\n",
    "    song=[]\n",
    "    for s_id in distance[1:21]:\n",
    "        song.append(df.iloc[s_id[0]].song)\n",
    "    return song    "
   ]
  },
  {
   "cell_type": "code",
   "execution_count": 116,
   "id": "7e1ead87",
   "metadata": {},
   "outputs": [
    {
     "data": {
      "text/plain": [
       "['When I Think About Leaving',\n",
       " 'Little Black Dress',\n",
       " 'I Wanna Grow Old With You',\n",
       " 'Throw This Away',\n",
       " 'I Wanna Believe You',\n",
       " 'Move On',\n",
       " 'I Want You',\n",
       " 'I Just Wanna Be There',\n",
       " 'Tell All The World About You',\n",
       " 'More',\n",
       " 'Wanna Be There',\n",
       " \"I Think I'm In Love\",\n",
       " 'Be On You',\n",
       " 'Without You',\n",
       " 'Dance With Me',\n",
       " \"I Don't Think We Could Ever Be Friends\",\n",
       " 'Love Me No More',\n",
       " \"It's Over\",\n",
       " 'Downpour',\n",
       " 'Will You Marry Me']"
      ]
     },
     "execution_count": 116,
     "metadata": {},
     "output_type": "execute_result"
    }
   ],
   "source": [
    "recommender(\"Mamacita\")"
   ]
  },
  {
   "cell_type": "code",
   "execution_count": 117,
   "id": "ea3961be",
   "metadata": {},
   "outputs": [],
   "source": [
    "import pickle"
   ]
  },
  {
   "cell_type": "code",
   "execution_count": 119,
   "id": "b5a4c70f",
   "metadata": {},
   "outputs": [],
   "source": [
    "pickle.dump(similer,open(\"similarity\",\"wb\"))"
   ]
  },
  {
   "cell_type": "code",
   "execution_count": 120,
   "id": "0327440e",
   "metadata": {},
   "outputs": [],
   "source": [
    "pickle.dump(df,open(\"df\",\"wb\"))"
   ]
  }
 ],
 "metadata": {
  "kernelspec": {
   "display_name": "Python 3 (ipykernel)",
   "language": "python",
   "name": "python3"
  },
  "language_info": {
   "codemirror_mode": {
    "name": "ipython",
    "version": 3
   },
   "file_extension": ".py",
   "mimetype": "text/x-python",
   "name": "python",
   "nbconvert_exporter": "python",
   "pygments_lexer": "ipython3",
   "version": "3.11.4"
  }
 },
 "nbformat": 4,
 "nbformat_minor": 5
}
